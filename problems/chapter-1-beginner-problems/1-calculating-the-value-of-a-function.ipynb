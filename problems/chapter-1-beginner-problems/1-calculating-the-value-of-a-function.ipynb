{
 "cells": [
  {
   "cell_type": "markdown",
   "source": [
    "# Problem No.1\n",
    "## Calculating the value of the function\n",
    "Function $f(x)$ has a two special features which are:\n",
    "1. $f(1) = 1$\n",
    "2. $f(2) = 2$\n",
    "3. The sequence $f(1),f(2),f(3),...$ is a an non decreasing sequence which the number $n$ is repeated exactly $f(n)$ times.\n",
    "\n",
    "As an example here are some of first elements of this sequence:\n",
    "\n",
    "| n |   | 1 | 2 | 3 | 4 | 5 | 6 | 7 | 8 | 9 | 10 | 11 | 12 | 13 | 14 | 15 |\n",
    "| --- | --- | --- | --- | --- | --- | --- | --- | --- | --- | --- | --- | --- | --- | --- | --- | --- |\n",
    "| f(n) |   | 1 | 2 | 2 | 3 | 3 | 4 | 4 | 5 | 5 | 5 | 6 | 6 | 6 | 6 | 6 |\n",
    "\n",
    "Write a program that takes the number $n$ ($n \\le 1000$), as the input and calculates the $f(n)$."
   ],
   "metadata": {}
  },
  {
   "cell_type": "markdown",
   "source": [
    "## Solution\n",
    "We know that there are at most $1000$ numbers to calculate. So, the order of $O(n)$ would be suitable to solve this problem.\n",
    "\n",
    "To have a rough estimation of the execution time of your codes, you can use this assumption with your implementations:\n",
    "\n",
    "Nowadays, the most low-end CPU running on a regular computer has at least 1GHz of clock speed. We assume that each arithmetic operation will be accomplished on each clock, so we can say that$10^9$ ($1,000,000,000$), arithmetic operations will be executed within a second by the computer's CPU. Usually, in competitive programming, the worst case of code runtime is about 1 to 5 seconds. If they explicitly didn't mention a time limit for the problem, you have to assume a one-second time limit for that problem.\n",
    "\n",
    "They didn't say anything about the time limit for this problem, so that we assume a one-second time limit for this problem. If so, 1000 ($=10^3$) arithmetic operations would be noting compared to $10^9$ operations, and its execution time will be suitable for the implementation."
   ],
   "metadata": {}
  },
  {
   "cell_type": "code",
   "execution_count": null,
   "source": [
    "# Building the f(n) sequence.\n",
    "f_n = [1,2]\n",
    "for i in range(1,1000):\n",
    "    for j in range (i):\n",
    "        f_n += [i+1]\n",
    "        \n",
    "n = int ( input ('Please enter the number n: ') )\n",
    "\n",
    "print (f'f(n) is { f_n[n - 1] }')"
   ],
   "outputs": [],
   "metadata": {}
  }
 ],
 "metadata": {
  "kernelspec": {
   "name": "python3",
   "display_name": "Python 3.8.8 64-bit ('base': conda)"
  },
  "language_info": {
   "codemirror_mode": {
    "name": "ipython",
    "version": 3
   },
   "file_extension": ".py",
   "mimetype": "text/x-python",
   "name": "python",
   "nbconvert_exporter": "python",
   "pygments_lexer": "ipython3",
   "version": "3.8.8"
  },
  "interpreter": {
   "hash": "68ce16ac1abed07a24800e1bb35371fff4aaf4814c53d12ffeb617492ff28a83"
  }
 },
 "nbformat": 4,
 "nbformat_minor": 5
}