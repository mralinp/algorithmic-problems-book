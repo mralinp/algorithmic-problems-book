{
 "cells": [
  {
   "cell_type": "markdown",
   "metadata": {},
   "source": [
    "# Problem No.3\n",
    "## Factorial format\n",
    "Each natural number $n$ could be represented in a factorial format as bellow:\n",
    "$$ n = d_1 \\times 1! + d_2 \\times 2! + d_3 \\times 3! + ... $$\n",
    "In which, d_i ($i \\in N$) are non negative integers.\n",
    "\n",
    "Write a program that takes the number n $(n \\le 30,000)$ and prints it's factorial representation."
   ]
  },
  {
   "cell_type": "markdown",
   "metadata": {},
   "source": [
    "## Part 1\n",
    "In this question, we know that always $n \\le 30,000$. And the factorial of 8 equals to (40,320). So, $ 8! > max(n)$ and we can conclude we only have to use the factorials of numbers in range $[1:7]$ for our calculations. This problem has a funny bug, for each number $n$ we can print $n\\times1!$ and this is always correct. but let's assume that the author wanted to say a different thing and that is the sum of the factorial multiplicants shod be minimized. If so, we can take a greedy approach for this problem."
   ]
  },
  {
   "cell_type": "code",
   "execution_count": 7,
   "metadata": {},
   "outputs": [
    {
     "name": "stdout",
     "output_type": "stream",
     "text": [
      "n:\t[1, 2, 3, 4, 5, 6, 7]\n",
      "fact(n):[1, 2, 6, 24, 120, 720, 5040]\n"
     ]
    }
   ],
   "source": [
    "def fact(n):\n",
    "    res = 1\n",
    "    for i in range(1, n+1):\n",
    "        res = res * i\n",
    "    return res\n",
    "print (f'n:\\t{[i for i in range(1,8)]}')\n",
    "factorials = [fact(i) for i in range(1,8)]\n",
    "print(f'fact(n):{factorials}')\n"
   ]
  }
 ],
 "metadata": {
  "interpreter": {
   "hash": "68ce16ac1abed07a24800e1bb35371fff4aaf4814c53d12ffeb617492ff28a83"
  },
  "kernelspec": {
   "display_name": "Python 3.8.8 64-bit ('base': conda)",
   "name": "python3"
  },
  "language_info": {
   "codemirror_mode": {
    "name": "ipython",
    "version": 3
   },
   "file_extension": ".py",
   "mimetype": "text/x-python",
   "name": "python",
   "nbconvert_exporter": "python",
   "pygments_lexer": "ipython3",
   "version": "3.8.8"
  }
 },
 "nbformat": 4,
 "nbformat_minor": 5
}
