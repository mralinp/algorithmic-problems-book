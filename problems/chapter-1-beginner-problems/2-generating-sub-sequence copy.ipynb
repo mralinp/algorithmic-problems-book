{
 "cells": [
  {
   "cell_type": "markdown",
   "metadata": {},
   "source": [
    "# Problem No.2\n",
    "## Generating subsequences\n",
    "Write a program such that:\n",
    "1. Given two numbers $k$ and $n$ prints all sub-sequences of sequence ${1,2,3,...,n}$ which hast exactly k members.\n",
    "2. Takes the number $n$ and prints all sub-sequences of the sequence ${1,2,3,...,n}$ without using the code of part 1.\n",
    "3. Given two numbers $k$ and $n$ prints all permutations of sub-sequences of sequence ${1,2,3,...,n}$ without using part 1."
   ]
  },
  {
   "cell_type": "markdown",
   "metadata": {},
   "source": [
    "## Part 1\n",
    "First, let's define the sub-sequence. A sub-sequence is sequence which length is smaller or equal to to original sequence and all elements of the sub-sequence should exist on the original sequence. The order of elements in sub-sequence is important and the order of element is the same as the original set. Lets assume the word 'ali' as our origin sequence, word 'a', 'al', 'li' are all sub-sequences for the word 'ali' but, 'la' is not a sub-sequence for the word ali because of the wrong order for the words. The word 'ai' is also a sub-sequence for the word 'ali' because all word of this sequence are a part of the original sequence and their order is a correct.\n",
    "\n",
    "A is a sub-sequence of B iff all of these three conditions are true:\n",
    "1. $  \\forall x \\in B \\Rightarrow x \\in A $\n",
    "2. $ |B| \\le |A| $\n",
    "3. $ \\forall x, y \\in B \\wedge x \\neq y  \\wedge index_B(x) < index_B(y) \\Rightarrow index_A(x) < index_A(y) $\n",
    "\n",
    "\n",
    "For all of these three parts we can ether use recursive or non-recursive methods for our implementations. However using recursive method is recommended because it's easier to understand.\n",
    "\n",
    "Do you remember from high school? or may be you don't because you're already in high school! don't worry i'll explain it to you.\n",
    "To count the sub sequences of a sequence we can assume that for each element of the sequence, it has two options, it is in the sub-sequence or it is not. but if we choose it to be in the sub-sequence, nether of its preducer could be in sequence after this element. In a recursive approach, each time, we chose an element and call the function to solve to problem for the rest of the sequence.\n"
   ]
  },
  {
   "cell_type": "code",
   "execution_count": 3,
   "metadata": {},
   "outputs": [
    {
     "name": "stdout",
     "output_type": "stream",
     "text": [
      "Sequence is: [1, 2, 3, 4, 5]\n",
      "[1, 2]\n",
      "[1, 3]\n",
      "[1, 4]\n",
      "[1, 5]\n",
      "[2, 3]\n",
      "[2, 4]\n",
      "[2, 5]\n",
      "[3, 4]\n",
      "[3, 5]\n",
      "[4, 5]\n"
     ]
    }
   ],
   "source": [
    "def calSubSequence(sequence, k, buff=[]):\n",
    "    if len(sequence) < k:\n",
    "        return\n",
    "    if k == 0:\n",
    "        return print(buff)\n",
    "    for idx in range(len(sequence)):\n",
    "        calSubSequence(sequence[idx+1:], k - 1, buff + [sequence[idx]])\n",
    "        \n",
    "n, k = list(map(int, input('Please enter n and k (separated with ' ': ').split()))\n",
    "sequence = [i for i in range(1,n+1)]\n",
    "print (f'Sequence is: {sequence}')\n",
    "calSubSequence(sequence, k)"
   ]
  },
  {
   "cell_type": "markdown",
   "metadata": {},
   "source": [
    "## Part 2\n",
    "Now we have to assume there is no $k$. In the first part, the parameter $k$ was our limiter and all answers had to be exactly of length $k$. But here we want all sub-sequence with length from $0$ to $n$.\n",
    "\n",
    "We could use the previous function to calculate all sub-sequence of different lengths but the problem statement restricted this action and wants us to write a new function for this task."
   ]
  },
  {
   "cell_type": "code",
   "execution_count": 37,
   "metadata": {},
   "outputs": [
    {
     "name": "stdout",
     "output_type": "stream",
     "text": [
      "Sequence is: [1, 2]\n",
      "[1, 2]\n",
      "[1]\n",
      "[2]\n",
      "[]\n"
     ]
    }
   ],
   "source": [
    "def calAllSubsequences(sequence, k, buff=[]):\n",
    "    if len(sequence) < k:\n",
    "        return\n",
    "    if k == 0:\n",
    "        return print(buff)\n",
    "    calAllSubsequences(sequence[1:], k-1, buff + [sequence[0]])\n",
    "    calAllSubsequences(sequence[1:], k-1, buff)       \n",
    "     \n",
    "n = int(input('Please enter number n: '))\n",
    "sequence = [i for i in range(1,n+1)]\n",
    "print (f'Sequence is: {sequence}')\n",
    "calAllSubsequences(sequence, len(sequence))"
   ]
  },
  {
   "cell_type": "markdown",
   "metadata": {},
   "source": [
    "## part 3\n",
    "For this part, our task is generating all permutations of each subset with the length of $k$."
   ]
  },
  {
   "cell_type": "code",
   "execution_count": 2,
   "metadata": {},
   "outputs": [
    {
     "name": "stdout",
     "output_type": "stream",
     "text": [
      "[1, 2]\n",
      "[1, 3]\n",
      "[2, 1]\n",
      "[2, 3]\n",
      "[3, 1]\n",
      "[3, 2]\n"
     ]
    }
   ],
   "source": [
    "def calPermutations(sequence, k, buff = []):\n",
    "    if len(sequence) < k:\n",
    "        return\n",
    "    if k  <= 0 :\n",
    "        return print(buff)\n",
    "    for idx in range(len(sequence)):\n",
    "        calPermutations(sequence[:idx] + sequence[idx+1:], k - 1, buff + [sequence[idx]])\n",
    "\n",
    "n, k = list(map(int, input(\"Please enter the numbers n and k: \").split()))\n",
    "sequence = [i+1 for i in range(n)]\n",
    "calPermutations(sequence, k)"
   ]
  }
 ],
 "metadata": {
  "interpreter": {
   "hash": "68ce16ac1abed07a24800e1bb35371fff4aaf4814c53d12ffeb617492ff28a83"
  },
  "kernelspec": {
   "display_name": "Python 3.8.8 64-bit ('base': conda)",
   "name": "python3"
  },
  "language_info": {
   "codemirror_mode": {
    "name": "ipython",
    "version": 3
   },
   "file_extension": ".py",
   "mimetype": "text/x-python",
   "name": "python",
   "nbconvert_exporter": "python",
   "pygments_lexer": "ipython3",
   "version": "3.8.8"
  }
 },
 "nbformat": 4,
 "nbformat_minor": 5
}
