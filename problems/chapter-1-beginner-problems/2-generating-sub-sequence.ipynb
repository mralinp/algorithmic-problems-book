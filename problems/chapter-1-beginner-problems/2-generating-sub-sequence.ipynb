{
 "cells": [
  {
   "cell_type": "markdown",
   "source": [
    "# Problem No.2\n",
    "## Generating subsequences\n",
    "Write a program such that:\n",
    "1. Given two numbers $k$ and $n$ prints all sub-sequences of sequence ${1,2,3,...,n}$ which hast exactly k members.\n",
    "2. Takes the number $n$ and prints all sub-sequences of the sequence ${1,2,3,...,n}$ without using the code of part 1.\n",
    "3. Given two numbers $k$ and $n$ prints all permutations of sub-sequences of sequence ${1,2,3,...,n}$ without using part 1."
   ],
   "metadata": {}
  },
  {
   "cell_type": "markdown",
   "source": [
    "## Part 1\n",
    "First, let's define the sub-sequence. A sub-sequence is sequence which length is smaller or equal to to original sequence and all elements of the sub-sequence should exist on the original sequence. The order of elements in sub-sequence is important and the order of element is the same as the original set. Lets assume the word 'ali' as our origin sequence, word 'a', 'al', 'li' are all sub-sequences for the word 'ali' but, 'la' is not a sub-sequence for the word ali because of the wrong order for the words. The word 'ai' is also a sub-sequence for the word 'ali' because all word of this sequence are a part of the original sequence and their order is a correct.\n",
    "\n",
    "A is a sub-sequence of B iff all of these three conditions are true:\n",
    "1. $  \\forall x \\in A \\Rightarrow x \\in B $\n",
    "2. $ |A| \\le |B| $\n",
    "3. $ \\forall x, y \\in B \\wedge x \\neq y  \\wedge index_B(x) < index_B(y) \\Rightarrow index_A(x) < index_A(y)  $\n",
    "\n"
   ],
   "metadata": {}
  },
  {
   "cell_type": "code",
   "execution_count": 39,
   "source": [
    "def calSubSequence(sequence, k, buff=[]):\n",
    "    if k == 0:\n",
    "        return print(buff)\n",
    "    for idx in range(len(sequence)):\n",
    "        calSubSequence(sequence[idx+1:], k - 1, buff + [sequence[idx]])\n",
    "        \n",
    "n, k = list(map(int, input('Please enter n and k (separated with ' ': ').split()))\n",
    "sequence = [i for i in range(1,n+1)]\n",
    "print (f'Sequence is: {sequence}')\n",
    "calSubSequence(sequence, k)"
   ],
   "outputs": [
    {
     "output_type": "stream",
     "name": "stdout",
     "text": [
      "Sequence is: [1, 2, 3]\n",
      "[1, 2]\n",
      "[1, 3]\n",
      "[2, 3]\n"
     ]
    }
   ],
   "metadata": {}
  },
  {
   "cell_type": "markdown",
   "source": [
    "## Part 2\n"
   ],
   "metadata": {}
  },
  {
   "cell_type": "code",
   "execution_count": 37,
   "source": [
    "def calAllSubsequences(sequence, k, buff=[]):\n",
    "    if (k == 0):\n",
    "        return print(buff)\n",
    "    calAllSubsequences(sequence[1:], k-1, buff + [sequence[0]])\n",
    "    calAllSubsequences(sequence[1:], k-1, buff)       \n",
    "     \n",
    "n = int(input('Please enter number n: '))\n",
    "sequence = [i for i in range(1,n+1)]\n",
    "print (f'Sequence is: {sequence}')\n",
    "calAllSubsequences(sequence, len(sequence))"
   ],
   "outputs": [
    {
     "output_type": "stream",
     "name": "stdout",
     "text": [
      "Sequence is: [1, 2]\n",
      "[1, 2]\n",
      "[1]\n",
      "[2]\n",
      "[]\n"
     ]
    }
   ],
   "metadata": {}
  }
 ],
 "metadata": {
  "kernelspec": {
   "name": "python3",
   "display_name": "Python 3.8.8 64-bit ('base': conda)"
  },
  "language_info": {
   "codemirror_mode": {
    "name": "ipython",
    "version": 3
   },
   "file_extension": ".py",
   "mimetype": "text/x-python",
   "name": "python",
   "nbconvert_exporter": "python",
   "pygments_lexer": "ipython3",
   "version": "3.8.8"
  },
  "interpreter": {
   "hash": "68ce16ac1abed07a24800e1bb35371fff4aaf4814c53d12ffeb617492ff28a83"
  }
 },
 "nbformat": 4,
 "nbformat_minor": 5
}