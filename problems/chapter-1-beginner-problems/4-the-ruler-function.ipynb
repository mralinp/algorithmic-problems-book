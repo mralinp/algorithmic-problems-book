{
 "cells": [
  {
   "cell_type": "markdown",
   "metadata": {},
   "source": []
  },
  {
   "cell_type": "markdown",
   "metadata": {},
   "source": [
    "# Problem No.4\n",
    "## The ruler function\n",
    "The ruler function $f$, is defined on natural numbers; $f(k)$ equals one plus the biggest power of two which counts $k$. It could be proved all permutations of numbers from $1$ to $n$ is a subsequences of the sequence:\n",
    "$$ f(1),f(2),...,f(2^n-1) $$\n",
    "For example, if the permutations is $(2,4,3,1)$ the sequence will be $f(1),...,f(15)$. Red numbers specify the subsequences:\n",
    "    $$ 1,\\textcolor{red}{2},1,3,1,2,1,\\textcolor{red}{4},1,2,1,\\textcolor{red}{3},1,2,\\textcolor{red}{1} $$\n",
    "The task is, write a program which takes the number $n$ and a permutation of numbers from $1$ to $n$ and calculates the subsequence. For each input, in the first line you are given the number $n$ $(n \\le 10)$, and in the second line a permutation of numbers from $1$ to $n$. In the output you have to print the sequence $f(1),...,f(n)$ and at the first line and the indexes of the subsequences arguments in the second line separated by a sequence. **(Assume that, the indexes starting from $1$)**\n",
    "\n",
    "## Sample input and output\n",
    "### Input\n",
    "```\n",
    "5\n",
    "3 5 4 1 2\n",
    "```\n",
    "### Output\n",
    "```\n",
    "1 2 1 3 1 2 1 4 1 2 1 3 1 2 1 5 1 2 1 3 1 2 1 4 1 2 1 3 1 2 1\n",
    "4 16 24 25 26\n",
    "```"
   ]
  },
  {
   "cell_type": "markdown",
   "metadata": {},
   "source": [
    "## Solution\n",
    "First of all we have to calculate the the sequence $f(1), f(2), f(3), ..., f(2^n-1)$ and after that we have to find the suitable subsequence based on the inputs of the program. As they said on the problem statement, $n \\le 10$, so, we have to calculate all $f(k)$ which $1 \\le k \\le 10 $."
   ]
  },
  {
   "cell_type": "code",
   "execution_count": 4,
   "metadata": {},
   "outputs": [],
   "source": [
    "def f(k: int) -> int:\n",
    "    for i in range(10,0, -1):\n",
    "        if (k % 2**i == 0):\n",
    "            return i + 1\n",
    "    return 1\n",
    "f_n = [f(i) for i in range(1,1024)]"
   ]
  },
  {
   "cell_type": "markdown",
   "metadata": {},
   "source": [
    "After calculating the sequence of $f(k)$, we have to calculate the proper sub-sequence which satisfies the problem statements. "
   ]
  },
  {
   "cell_type": "code",
   "execution_count": 17,
   "metadata": {},
   "outputs": [
    {
     "name": "stdout",
     "output_type": "stream",
     "text": [
      "1 2 1 3 1 2 1 4 1 2 1 3 1 2 1 5 1 2 1 3 1 2 1 4 1 2 1 3 1 2 1\n",
      "4 16 24 25 26\n"
     ]
    }
   ],
   "source": [
    "def findSequence(n: int,perm: list) -> list:\n",
    "    permIdx = 0\n",
    "    ret = []\n",
    "    for i in range(2**n - 1):\n",
    "        if (permIdx == len(perm)):\n",
    "            break\n",
    "        if (f_n[i] == perm[permIdx]):\n",
    "            ret += [i+1]\n",
    "            permIdx += 1\n",
    "    return ret\n",
    "\n",
    "n = int(input(\"please enter number n: \"))\n",
    "perm = list(map(int, input(\"Please enter the permutation: \").split()))\n",
    "\n",
    "r = \" \"\n",
    "print (r.join(list(map(str, f_n[:2**n-1]))))\n",
    "print (r.join(list(map(str, findSequence(n, perm)))))"
   ]
  }
 ],
 "metadata": {
  "interpreter": {
   "hash": "32ab337d300a262fcb74bcd8d75636cffd04d731979dac57d454a95421ba417f"
  },
  "kernelspec": {
   "display_name": "Python 3.8.8 64-bit ('base': conda)",
   "name": "python3"
  },
  "language_info": {
   "codemirror_mode": {
    "name": "ipython",
    "version": 3
   },
   "file_extension": ".py",
   "mimetype": "text/x-python",
   "name": "python",
   "nbconvert_exporter": "python",
   "pygments_lexer": "ipython3",
   "version": "3.8.8"
  }
 },
 "nbformat": 4,
 "nbformat_minor": 5
}
