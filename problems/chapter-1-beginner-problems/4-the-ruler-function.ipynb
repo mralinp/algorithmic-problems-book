{
 "cells": [
  {
   "cell_type": "markdown",
   "metadata": {},
   "source": [
    "# Problem No.4\n",
    "## The ruler function\n",
    "Each natural number $n$ could be represented in a factorial format as bellow:\n",
    "$$ n = d_1 \\times 1! + d_2 \\times 2! + d_3 \\times 3! + ... $$\n",
    "In which, d_i ($i \\in N$) are non negative integers.\n",
    "\n",
    "Write a program that takes the number n $(n \\le 30,000)$ and prints it's factorial representation."
   ]
  },
  {
   "cell_type": "markdown",
   "metadata": {},
   "source": [
    "## Solution\n",
    "In this question, we know that always $n \\le 30,000$. And the factorial of 8 equals (40,320). So, $ 8! > max(n)$ and we can conclude we only have to use the factorials of numbers in the range $[1:7]$ for our calculations. This problem has a funny bug; for each number $n$, we can print $n\\times1!$, and this is always correct. But let's assume that the author wanted to say a different thing; the sum of the factorial multiplicands shod be minimum. If so, we can take a greedy approach to this problem.\n",
    "\n",
    "Our approach for this problem is known as the \"Greedy Coin Change\" approach. We start from the most significant factorial and iteratively divide the number with the next greatest factorial until the remainder becomes zero."
   ]
  },
  {
   "cell_type": "code",
   "execution_count": 17,
   "metadata": {},
   "outputs": [
    {
     "name": "stdout",
     "output_type": "stream",
     "text": [
      "n:\t[1, 2, 3, 4, 5, 6, 7]\n",
      "fact(n):[1, 2, 6, 24, 120, 720, 5040]\n",
      "Factorial representation of 120 is: 0×1! + 0×2! + 0×3! + 0×4! + 1×5!\n"
     ]
    }
   ],
   "source": [
    "# Calculating factorials from 1 to 7\n",
    "def fact(n):\n",
    "    res = 1\n",
    "    for i in range(1, n+1):\n",
    "        res = res * i\n",
    "    return res\n",
    "\n",
    "factorials = [fact(i) for i in range(1,8)]\n",
    "\n",
    "print (f'n:\\t{[i for i in range(1,8)]}')\n",
    "print(f'fact(n):{factorials}')\n",
    "\n",
    "# Reading the input\n",
    "n = int(input(\"Please enter the number n: \"))\n",
    "\n",
    "# Calculating the coefficients\n",
    "nCpy = n\n",
    "coff = [0 for i in range(7)]\n",
    "for i in range(6,-1,-1):\n",
    "    coff[i] = nCpy // factorials[i]\n",
    "    nCpy = nCpy % factorials[i]\n",
    "\n",
    "# Deleting extra zeros\n",
    "cnt = 0\n",
    "coff.reverse()\n",
    "\n",
    "for x in coff:\n",
    "    if x != 0:\n",
    "        break\n",
    "    cnt += 1\n",
    "    \n",
    "coff = coff[cnt:]\n",
    "coff.reverse()\n",
    "\n",
    "# Building the proper string list\n",
    "res = []\n",
    "for i in range(len(coff)):\n",
    "    res += [f'{coff[i]}×{i+1}!']\n",
    "\n",
    "# Concatinating the list with a '+' separater\n",
    "sep = ' + '\n",
    "res = sep.join(res)\n",
    "\n",
    "# Printing the results\n",
    "print (f'Factorial representation of {n} is: {res}')"
   ]
  }
 ],
 "metadata": {
  "interpreter": {
   "hash": "32ab337d300a262fcb74bcd8d75636cffd04d731979dac57d454a95421ba417f"
  },
  "kernelspec": {
   "display_name": "Python 3.8.8 64-bit ('base': conda)",
   "name": "python3"
  },
  "language_info": {
   "codemirror_mode": {
    "name": "ipython",
    "version": 3
   },
   "file_extension": ".py",
   "mimetype": "text/x-python",
   "name": "python",
   "nbconvert_exporter": "python",
   "pygments_lexer": "ipython3",
   "version": "3.8.8"
  }
 },
 "nbformat": 4,
 "nbformat_minor": 5
}
